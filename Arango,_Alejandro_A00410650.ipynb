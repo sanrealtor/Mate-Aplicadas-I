{
  "nbformat": 4,
  "nbformat_minor": 0,
  "metadata": {
    "colab": {
      "provenance": [],
      "include_colab_link": true
    },
    "kernelspec": {
      "name": "python3",
      "display_name": "Python 3"
    },
    "language_info": {
      "name": "python"
    }
  },
  "cells": [
    {
      "cell_type": "markdown",
      "metadata": {
        "id": "view-in-github",
        "colab_type": "text"
      },
      "source": [
        "<a href=\"https://colab.research.google.com/github/sanrealtor/Mate-Aplicadas-I/blob/main/Arango%2C_Alejandro_A00410650.ipynb\" target=\"_parent\"><img src=\"https://colab.research.google.com/assets/colab-badge.svg\" alt=\"Open In Colab\"/></a>"
      ]
    },
    {
      "cell_type": "markdown",
      "source": [
        "#La Biografía de Alejandro Arango\n",
        "\n",
        "\n",
        "---\n",
        "\n",
        "### Autobiografía de Alejandro Arango  \n",
        "\n",
        "Nací el 4 de diciembre de 2005 en **Santander de Quilichao**, una ciudad llena de cultura y tradición. Desde pequeño, el deporte ha sido mi mayor pasión, y el **baloncesto** se convirtió en el centro de mi vida. Entrené con disciplina y esfuerzo, soñando con llegar a lo más alto en este deporte. Sin embargo, el destino tenía otros planes para mí.  \n",
        "\n",
        "Las lesiones me obligaron a tomar un camino distinto, alejándome de la cancha y llevándome al mundo de la **Ingeniería de Sistemas**. Fue un cambio difícil, pero me permitió descubrir nuevas habilidades y expandir mis horizontes. Aun así, la necesidad de desafiarme físicamente nunca desapareció.  \n",
        "\n",
        "Fue entonces cuando encontré en los deportes de combate una nueva oportunidad. **El Muay Thai** y las **MMA** me devolvieron la adrenalina y la disciplina del alto rendimiento, dándome una nueva forma de superarme día a día.  \n",
        "\n",
        "Este no es el final de mi historia, sino solo el comienzo de muchas más aventuras que están por venir. ¡Lo mejor aún está por escribirse!  \n",
        "\n",
        "\n",
        "##Música\n",
        "La música ha sido una de mis mayores pasiones durante todo mi vida, incluso para dedicarme a aprender composición y producción, es asi como esta es mi lista de canciones favoritas:\n",
        "\n",
        "1. 4 Your Eyez Only\n",
        "> Artista - ***J.Cole***\n",
        ">>Compositor - ***Jermein Lamar Cole***\n",
        "\n",
        "2. 03' Adolescence\n",
        "> Artista - ***J.Cole***\n",
        ">> Compositor - ***Jermein Lamar Cole***\n",
        "\n",
        "3. Back On My BS\n",
        "> Artista - ***BigXthaPlug***\n",
        ">> Compositor - ***BigXthaPlug***\n",
        "\n",
        "4. Picture Me Grapin'\n",
        "> Artista - ***NLE Choppa***\n",
        ">> Compositor - ***Bryson Potts***\n",
        "\n",
        "5. My.Life\n",
        "> Artista - ***J.Cole***\n",
        ">>Compositor - ***Jermein Lamar Cole***\n",
        "\n",
        "\n"
      ],
      "metadata": {
        "id": "uPaYDsWNHrq5"
      }
    }
  ]
}