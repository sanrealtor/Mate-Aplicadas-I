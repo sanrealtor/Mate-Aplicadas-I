{
  "nbformat": 4,
  "nbformat_minor": 0,
  "metadata": {
    "colab": {
      "provenance": [],
      "authorship_tag": "ABX9TyNp+DSQf0+XwoFtECX7WuSa",
      "include_colab_link": true
    },
    "kernelspec": {
      "name": "python3",
      "display_name": "Python 3"
    },
    "language_info": {
      "name": "python"
    }
  },
  "cells": [
    {
      "cell_type": "markdown",
      "metadata": {
        "id": "view-in-github",
        "colab_type": "text"
      },
      "source": [
        "<a href=\"https://colab.research.google.com/github/sanrealtor/Mate-Aplicadas-I/blob/main/Lab1_Cajero.ipynb\" target=\"_parent\"><img src=\"https://colab.research.google.com/assets/colab-badge.svg\" alt=\"Open In Colab\"/></a>"
      ]
    },
    {
      "cell_type": "code",
      "execution_count": null,
      "metadata": {
        "id": "VrNcTXPU2RqB"
      },
      "outputs": [],
      "source": [
        "import numpy as np\n",
        "\n",
        "saldo = np.random.randint(50000, 1000001)\n",
        "\n",
        "def mostrar_menu():\n",
        "    print(\"\\n--- Cajero Automático ---\")\n",
        "    print(\"1. Consultar saldo\")\n",
        "    print(\"2. Depositar dinero\")\n",
        "    print(\"3. Retirar dinero\")\n",
        "    print(\"4. Transferir dinero\")\n",
        "    print(\"5. Salir\")\n",
        "\n",
        "while True:\n",
        "    mostrar_menu()\n",
        "    opcion = input(\"Seleccione una opción: \")\n",
        "\n",
        "    if opcion == \"1\":\n",
        "        print(f\"Su saldo actual es: ${saldo}\")\n",
        "\n",
        "    elif opcion == \"2\":\n",
        "        deposito = int(input(\"Ingrese la cantidad a depositar: \"))\n",
        "        if deposito > 0:\n",
        "            saldo += deposito\n",
        "            print(\"Depósito realizado\")\n",
        "        else:\n",
        "            print(\"Cantidad inválida\")\n",
        "\n",
        "    elif opcion == \"3\":\n",
        "        retiro = int(input(\"Ingrese la cantidad a retirar: \"))\n",
        "        if 0 < retiro <= saldo:\n",
        "            saldo -= retiro\n",
        "            print(\"Retiro realizado\")\n",
        "        else:\n",
        "            print(\"Fondos insuficientes o cantidad inválida\")\n",
        "\n",
        "    elif opcion == \"4\":\n",
        "        transferencia = int(input(\"Ingrese la cantidad a transferir: \"))\n",
        "        if 0 < transferencia <= saldo:\n",
        "            saldo -= transferencia\n",
        "            print(\"Transferencia realizada\")\n",
        "        else:\n",
        "            print(\"Fondos insuficientes o cantidad inválida\")\n",
        "\n",
        "    elif opcion == \"5\":\n",
        "        print(\"Gracias por usar nuestros servicios\")\n",
        "        break\n",
        "\n",
        "    else:\n",
        "        print(\"Opción no válida\")"
      ]
    },
    {
      "cell_type": "code",
      "source": [],
      "metadata": {
        "id": "TaH-E-h82jLX"
      },
      "execution_count": null,
      "outputs": []
    }
  ]
}