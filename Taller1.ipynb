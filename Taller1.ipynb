{
  "nbformat": 4,
  "nbformat_minor": 0,
  "metadata": {
    "colab": {
      "provenance": [],
      "include_colab_link": true
    },
    "kernelspec": {
      "name": "python3",
      "display_name": "Python 3"
    },
    "language_info": {
      "name": "python"
    }
  },
  "cells": [
    {
      "cell_type": "markdown",
      "metadata": {
        "id": "view-in-github",
        "colab_type": "text"
      },
      "source": [
        "<a href=\"https://colab.research.google.com/github/sanrealtor/Mate-Aplicadas-I/blob/main/Taller1.ipynb\" target=\"_parent\"><img src=\"https://colab.research.google.com/assets/colab-badge.svg\" alt=\"Open In Colab\"/></a>"
      ]
    },
    {
      "cell_type": "markdown",
      "source": [
        "#1:\n",
        "\n",
        "## Área lateral de un cilindro\n",
        "Sin despejar: $$ A = 2\\pi r g $$\n",
        "Despejando:  $$ r = \\frac{A}{2\\pi g} $$\n",
        "\n",
        "## Volumen del cono\n",
        "Sin despejar: $$ V = \\frac{A_b \\cdot h}{3} $$\n",
        "Despejado: $$ h = \\frac{3V}{A_b} $$\n",
        "\n",
        "## Volumen de la esfera\n",
        "Sin despejar: $$ V = \\frac{4}{3} \\pi r^3 $$\n",
        "Despejado: $$ r = \\sqrt[3]{\\frac{3V}{4\\pi}} $$\n",
        "\n",
        "## Área del trapecio\n",
        "Sin despejar: $$ A = \\frac{(B + b) \\cdot h}{2} $$\n",
        "Despejado: $$ h = \\frac{2A}{B + b} $$\n",
        "\n",
        "## Intensidad eléctrica\n",
        "Sin despejar: $$ I = \\frac{q}{t} $$\n",
        "Despejado: $$ t = \\frac{q}{I} $$\n",
        "\n",
        "## Ley de Ohm\n",
        "Sin despejar: $$ I = \\frac{V}{R} $$\n",
        "Despejado: $$ R = \\frac{V}{I} $$\n",
        "\n",
        "## Energía eléctrica\n",
        "Sin despejar: $$ E = \\frac{V^2}{R} \\cdot t $$\n",
        "Despejado: $$ t = \\frac{E R}{V^2} $$\n",
        "\n",
        "## Resistencias en paralelo\n",
        "Sin despejar: $$ \\frac{1}{R} = \\frac{1}{R_1} + \\frac{1}{R_2} $$\n",
        "Despejado: $$ R = \\left( \\frac{1}{R_1} + \\frac{1}{R_2} \\right)^{-1} $$\n",
        "\n",
        "## Ecuación de gases perfectos\n",
        "Sin despejar: $$ \\frac{P_0 V_0}{T_0} = \\frac{P_f V_f}{T_f} $$\n",
        "Despejado: $$ P_f = \\frac{P_0 V_0 T_f}{T_0 V_f} $$\n",
        "\n",
        "## Intensidad eléctrica\n",
        "Sin despejar: $$ I = \\frac{V_A - V_B}{R} $$\n",
        "Despejado: $$ V_B = V_A - I R $$\n",
        "\n"
      ],
      "metadata": {
        "id": "68wlDD-WFRrP"
      }
    },
    {
      "cell_type": "code",
      "source": [
        "#2\n",
        "resultado1 = (3 * (-5 + 10 + (-5)) - 2 * ((-2) + (-4) + 10)) ** 2\n",
        "print(resultado1)\n",
        "\n",
        "resultado2 = 45 + (3 * (2 + 8) - 8 / 4) + 10 - 83\n",
        "print(resultado2)\n",
        "\n",
        "resultado3 = (((-4 + 7) * 2) - 10) * (-4) - 7 - 3\n",
        "print(resultado3)\n",
        "\n",
        "#3\n",
        "resultado1 = (1/5) * (1/2)**2 + (3/4)**2 + (10/25) * (1/2)**2 + (3/4)**2 + (8/40) * (1/2)**2 + (3/4)**2\n",
        "print(resultado1)\n",
        "\n",
        "resultado2 = (9/4) * (6/8)**-1 - (5/2) * (25/20)**-1 + (40/8) * (20/16)**-1\n",
        "print(resultado2)\n",
        "\n",
        "#4\n",
        "nombre = input(\"Ingrese su nombre: \")\n",
        "peso = float(input(\"Ingrese su peso en kg: \"))\n",
        "talla = float(input(\"Ingrese su talla en metros: \"))\n",
        "\n",
        "imc = peso / (talla ** 2)\n",
        "\n",
        "print(f\"{nombre}, su Índice de Masa Corporal (IMC) es: {imc:.2f}\")\n",
        "\n",
        "#5\n",
        "a=int(input(\"Ingrese el primer numero:  \"))\n",
        "b=int(input(\"Ingrese el segundo numero:  \"))\n",
        "\n",
        "print(f\"La suma de {a} y {b} es: {a+b}\")\n",
        "print(f\"La resta de {a} y {b} es: {a-b}\")\n",
        "print(f\"La multiplicacion de {a} y {b} es: {a*b}\")\n",
        "print(f\"La division de {a} y {b} es: {a/b}\")"
      ],
      "metadata": {
        "colab": {
          "base_uri": "https://localhost:8080/"
        },
        "id": "6MvesojgJ8Tp",
        "outputId": "c85b8d16-0c3d-4cda-b332-0dbf7afd9440"
      },
      "execution_count": 1,
      "outputs": [
        {
          "output_type": "stream",
          "name": "stdout",
          "text": [
            "64\n",
            "0.0\n",
            "6\n"
          ]
        }
      ]
    },
    {
      "cell_type": "code",
      "source": [
        "precios_comparados = [76.70, 76.08, 76,14, 75.89, 75.32, 75.62]\n",
        "for precio_petróleo in precios_petróleo:\n",
        "    relación = precio_petróleo / 76.00\n",
        "    precio_coca_cola = 151.24 * relación\n",
        "    precios_comparados.append((precio_petróleo, precio_coca_cola))\n",
        "\n",
        "print(precios_comparados)"
      ],
      "metadata": {
        "id": "3E6fPy3ITCvO"
      },
      "execution_count": null,
      "outputs": []
    },
    {
      "cell_type": "code",
      "source": [],
      "metadata": {
        "id": "Nnah6SZTOytD"
      },
      "execution_count": null,
      "outputs": []
    },
    {
      "cell_type": "code",
      "execution_count": null,
      "metadata": {
        "id": "HwgDxnxUB4ge"
      },
      "outputs": [],
      "source": []
    },
    {
      "cell_type": "markdown",
      "source": [
        "El precio del barril de petróleo del dia de hoy 14 de febrero de 2024 es $76.13 USD. Y de los ultimos 7 dias es respectivamente 74.41 USD, 76.70 USD, 76.08 USD, 76,14 USD, 75.89 USD, 75.32 USD, 75.62 USD respectivamente\n",
        "\n",
        "Por otro lado una botella de 2 litros de Coca-Cola cuesta aproximadamente COL$7,218.\n",
        "\n",
        "Esto implica que el precio por litro es de COL$3,609.\n",
        "\n",
        "Un barril estándar (bbl) equivale a 159 litros. Por lo tanto, el precio de un barril de Coca-Cola sería:\n",
        "\n",
        "COL$3,609 × 159 ≈ COL$574,731\n",
        "\n",
        "Para convertir este valor a dólares estadounidenses, utilizaremos una tasa de cambio aproximada de 1 USD = 3,800 COP:\n",
        "\n",
        "USD$574,731 / 3,800 ≈ USD$151.24\n",
        "\n",
        "\n",
        "En conclusión, comparando los dos precios, un barril de Coca-Cola adquiere un valor aproximado de $151.24 USD, claramente es casi el doble más caro que el petróleo. Un barril de petróleo ronda los $76 USD. Con esto quiero decir que las bebidas procesadas valen más que la materia prima, debido al valor que agregan al transformarse en productos finales. El precio final de un producto viene con un valor añadido; pues un producto como la Coca-Cola también debe incluir marketing, costo de distribución a nivel mundial e impuestos. Sin embargo, estos cálculos se basan en promedios y estimaciones, por lo que los precios reales pueden variar según la ubicación geográfica, las condiciones del mercado y las fluctuaciones en las tasas de cambio.\n",
        "\n"
      ],
      "metadata": {
        "id": "ggskQC18THBz"
      }
    }
  ]
}